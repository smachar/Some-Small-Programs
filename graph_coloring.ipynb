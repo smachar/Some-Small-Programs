{
 "cells": [
  {
   "cell_type": "code",
   "execution_count": 8,
   "metadata": {},
   "outputs": [
    {
     "output_type": "stream",
     "name": "stdout",
     "text": [
      "{1: [2, 3, 4, 5, 6], 2: [1, 3, 4, 5, 6], 3: [2, 1, 4, 5, 6], 4: [2, 3, 1, 5, 6], 5: [2, 3, 4, 1, 6], 6: [2, 3, 4, 5, 1]}\n"
     ]
    }
   ],
   "source": [
    "# liste = {\n",
    "#     1:[6],\n",
    "#     2:[1,4,5,6,7],\n",
    "#     3:[4],\n",
    "#     4:[1,5],\n",
    "#     5:[],\n",
    "#     6:[4],\n",
    "#     7:[],\n",
    "# }\n",
    "#the graph represented as a dictionary\n",
    "liste = {\n",
    "    1:[2,3,4,5,6], #1 is connected with 2,3,4,5 and 6\n",
    "    2:[1,3,4,5,6],\n",
    "    3:[2,1,4,5,6],\n",
    "    4:[2,3,1,5,6],\n",
    "    5:[2,3,4,1,6],\n",
    "    6:[2,3,4,5,1],\n",
    "}\n",
    "print(liste)"
   ]
  },
  {
   "cell_type": "code",
   "execution_count": 4,
   "metadata": {},
   "outputs": [],
   "source": [
    "def itsOkay(vertex, color, already_colored):\n",
    "    print(\"can vertex\",vertex,\"takes the color\",color, \"in\", already_colored, sep=' ')\n",
    "    for j in liste[vertex]:\n",
    "        #assume that j is already colored\n",
    "        try:\n",
    "            if already_colored[j]==color:\n",
    "                print(\"non, bcz it's adjacent \",j,\" already had it\",sep=' ')\n",
    "                return False\n",
    "        except KeyError:\n",
    "            continue\n",
    "    print(\"yes it's okay\")\n",
    "    return True"
   ]
  },
  {
   "cell_type": "code",
   "execution_count": 7,
   "metadata": {},
   "outputs": [
    {
     "output_type": "stream",
     "name": "stdout",
     "text": [
      "can vertex 2 takes the color 1 in {1: 1}\nnon, bcz it's adjacent  1  already had it\ncan vertex 2 takes the color 2 in {1: 1}\nyes it's okay\ncan vertex 3 takes the color 1 in {1: 1, 2: 2}\nnon, bcz it's adjacent  1  already had it\ncan vertex 3 takes the color 2 in {1: 1, 2: 2}\nnon, bcz it's adjacent  2  already had it\ncan vertex 3 takes the color 3 in {1: 1, 2: 2}\nyes it's okay\ncan vertex 4 takes the color 1 in {1: 1, 2: 2, 3: 3}\nnon, bcz it's adjacent  1  already had it\ncan vertex 4 takes the color 2 in {1: 1, 2: 2, 3: 3}\nnon, bcz it's adjacent  2  already had it\ncan vertex 4 takes the color 3 in {1: 1, 2: 2, 3: 3}\nnon, bcz it's adjacent  3  already had it\ncan vertex 4 takes the color 4 in {1: 1, 2: 2, 3: 3}\nyes it's okay\ncan vertex 5 takes the color 1 in {1: 1, 2: 2, 3: 3, 4: 4}\nnon, bcz it's adjacent  1  already had it\ncan vertex 5 takes the color 2 in {1: 1, 2: 2, 3: 3, 4: 4}\nnon, bcz it's adjacent  2  already had it\ncan vertex 5 takes the color 3 in {1: 1, 2: 2, 3: 3, 4: 4}\nnon, bcz it's adjacent  3  already had it\ncan vertex 5 takes the color 4 in {1: 1, 2: 2, 3: 3, 4: 4}\nnon, bcz it's adjacent  4  already had it\ncan vertex 5 takes the color 5 in {1: 1, 2: 2, 3: 3, 4: 4}\nyes it's okay\ncan vertex 6 takes the color 1 in {1: 1, 2: 2, 3: 3, 4: 4, 5: 5}\nnon, bcz it's adjacent  1  already had it\ncan vertex 6 takes the color 2 in {1: 1, 2: 2, 3: 3, 4: 4, 5: 5}\nnon, bcz it's adjacent  2  already had it\ncan vertex 6 takes the color 3 in {1: 1, 2: 2, 3: 3, 4: 4, 5: 5}\nnon, bcz it's adjacent  3  already had it\ncan vertex 6 takes the color 4 in {1: 1, 2: 2, 3: 3, 4: 4, 5: 5}\nnon, bcz it's adjacent  4  already had it\ncan vertex 6 takes the color 5 in {1: 1, 2: 2, 3: 3, 4: 4, 5: 5}\nnon, bcz it's adjacent  5  already had it\ncan vertex 6 takes the color 6 in {1: 1, 2: 2, 3: 3, 4: 4, 5: 5}\nyes it's okay\n\n\n\n\nthe colored graph is  {1: 1, 2: 2, 3: 3, 4: 4, 5: 5, 6: 6} \nand the chromatic number is  1\n"
     ]
    }
   ],
   "source": [
    "#c1 c1 .. <==> 1 2 ...\n",
    "n = len(liste)\n",
    "\n",
    "def greedy_chrom(adjacentL, start):\n",
    "    already_colored = {\n",
    "        start:1, #the start_th element in liste has first color\n",
    "    }\n",
    "    chromatic = 1\n",
    "    for i in adjacentL:\n",
    "        if i==start:\n",
    "            continue\n",
    "        for c in range(1, n+1): #colors\n",
    "            if itsOkay(i, c, already_colored):\n",
    "#                 if c != already_colored[]:\n",
    "#                     chromatic+=1\n",
    "                already_colored[i]=c\n",
    "                break\n",
    "        #sure that it'gonna give a color to i\n",
    "    return [already_colored, chromatic]\n",
    "\n",
    "r = greedy_chrom(liste, 1)\n",
    "print(\"\\n\\n\\n\\nthe colored graph is \",r[0], \"\\nand the chromatic number is \", r[1])"
   ]
  }
 ],
 "metadata": {
  "kernelspec": {
   "display_name": "Python 3.7.4 64-bit",
   "language": "python",
   "name": "python37464bitdde6ba79c54d43ecac84772c09133bd6"
  },
  "language_info": {
   "codemirror_mode": {
    "name": "ipython",
    "version": 3
   },
   "file_extension": ".py",
   "mimetype": "text/x-python",
   "name": "python",
   "nbconvert_exporter": "python",
   "pygments_lexer": "ipython3",
   "version": "3.7.4-final"
  }
 },
 "nbformat": 4,
 "nbformat_minor": 2
}