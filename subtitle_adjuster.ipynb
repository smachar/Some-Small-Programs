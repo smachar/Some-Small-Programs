{
 "cells": [
  {
   "cell_type": "code",
   "execution_count": 5,
   "metadata": {},
   "outputs": [],
   "source": [
    "from datetime import timedelta\n",
    "import sys"
   ]
  },
  {
   "cell_type": "code",
   "execution_count": 6,
   "metadata": {},
   "outputs": [],
   "source": [
    "filepath = \"eHalt.and.Catch.Fire.S02E05.HDTV.x264-KILLERS.srt\"\n",
    "seconds = 2\n",
    "milliseconds = 20\n",
    "operation = \"-\" #set it to '+' if you want to increase time"
   ]
  },
  {
   "cell_type": "code",
   "execution_count": 9,
   "metadata": {
    "scrolled": false,
    "tags": []
   },
   "outputs": [
    {
     "output_type": "stream",
     "name": "stdout",
     "text": [
      "All good! check the new file new_eHalt.and.Catch.Fire.S02E05.HDTV.x264-KILLERS.srt\n"
     ]
    }
   ],
   "source": [
    "deltatime = timedelta(hours=0, minutes=0,seconds=seconds, milliseconds=milliseconds)\n",
    "f = open(filepath, 'r')\n",
    "nf = open(\"new_\"+filepath, \"w\")\n",
    "content = f.read()\n",
    "f.close()\n",
    "times = content.split('\\n\\n')\n",
    "for time in times[:-1]:\n",
    "    #print(\"time : \",time)\n",
    "    text_time = time.split('\\n')\n",
    "    se = text_time[1] #start-end time\n",
    "    b = se.split(' ')\n",
    "    #print(\"b : \",b)\n",
    "    c = b[0].split(':')\n",
    "    c2 = b[2].split(':')\n",
    "    #print(\"c : \",c, \"c2 : \",c2)\n",
    "    st = timedelta(hours=int(c[0]), minutes=int(c[1]),seconds=int(c[2][:2]), milliseconds=int(c[2][3:]))\n",
    "    et = timedelta(hours=int(c2[0]), minutes=int(c2[1]),seconds=int(c2[2][:2]), milliseconds=int(c2[2][3:]))\n",
    "    #print(\"start time : \", st)\n",
    "    #print(\"end time : \", et)\n",
    "    if(operation==\"+\"):\n",
    "        nst  = st-deltatime\n",
    "        net = et-deltatime\n",
    "    elif(operation==\"-\"):\n",
    "        nst  = st-deltatime\n",
    "        net = et-deltatime\n",
    "    else:\n",
    "        print(\"Operation not supported!\")\n",
    "        sys.exit()\n",
    "    \n",
    "    if(nst < timedelta(0) or net < timedelta(0)):\n",
    "        continue\n",
    "    nst = str(nst) #plus\n",
    "    net = str(net)\n",
    "    #print(\"nst : \",nst)\n",
    "    #print(\"net : \",net)\n",
    "    c = nst.split(':')\n",
    "    c2 = net.split(':')\n",
    "    #print(\"c : \",c)\n",
    "    #print(\"c2 : \",c2)\n",
    "    if(int(c[0])<10):\n",
    "        c[0] = \"0\"+c[0]\n",
    "    if(int(c2[0])<10):\n",
    "        c2[0] = \"0\"+c2[0]\n",
    "    c[2] = str(c[2]).replace('.',',')\n",
    "    c2[2] = str(c2[2]).replace('.',',')\n",
    "    #print(\"c : \",c)\n",
    "    #print(\"c2 : \",c2)\n",
    "    #break\n",
    "    b[0] = \":\".join(c)\n",
    "    b[2] = \":\".join(c2)\n",
    "    #print(\"b : \",b)\n",
    "    se = \" \".join(b)\n",
    "    text_time[1] = se\n",
    "    new_time = \"\\n\".join(text_time)+\"\\n\\n\"\n",
    "    #print(new_time)\n",
    "    #break\n",
    "    nf.write(new_time)\n",
    "nf.close()\n",
    "print(\"All good! check the new file new_\"+filepath)"
   ]
  }
 ],
 "metadata": {
  "kernelspec": {
   "display_name": "Python 3",
   "language": "python",
   "name": "python3"
  },
  "language_info": {
   "codemirror_mode": {
    "name": "ipython",
    "version": 3
   },
   "file_extension": ".py",
   "mimetype": "text/x-python",
   "name": "python",
   "nbconvert_exporter": "python",
   "pygments_lexer": "ipython3",
   "version": "3.6.7-final"
  }
 },
 "nbformat": 4,
 "nbformat_minor": 2
}